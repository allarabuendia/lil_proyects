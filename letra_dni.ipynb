{
 "cells": [
  {
   "cell_type": "code",
   "execution_count": 2,
   "id": "008f3f20",
   "metadata": {},
   "outputs": [
    {
     "name": "stdout",
     "output_type": "stream",
     "text": [
      "Escriba su DNI sin letra: 1231233\n",
      "Su DNI con letra es:  1231233-C\n"
     ]
    }
   ],
   "source": [
    "dict_nums = {0:'T', 1:'R', 2:'W',3:'A', 4:'G', 5:'M', 6:'Y', 7:'F', 8:'P', 9:'D',10:'X', 11:'B',\n",
    "             12:'N',13:'J', 14:'Z',15:'S',16:'Q',17:'V',18:'H',19:'L',20:'C',21:'K',22:'E'}\n",
    "\n",
    "check_input = 0\n",
    "\n",
    "while check_input == 0:\n",
    "    try:\n",
    "        num_dni = int(input('Escriba su DNI sin letra: '))\n",
    "        if (len(str(num_dni))>=7 and len(str(num_dni))<=8):\n",
    "            for i in dict_nums:\n",
    "                if int(num_dni % 23) == i:\n",
    "                    dni_letra = str(num_dni)+'-'+dict_nums.get(i)\n",
    "                    print('Su DNI con letra es: ', dni_letra)\n",
    "                    check_input = 1\n",
    "        else:\n",
    "            print('No es un formato válido..')\n",
    "                    \n",
    "    except ValueError:\n",
    "        print('No es un formato válido.')"
   ]
  },
  {
   "cell_type": "code",
   "execution_count": null,
   "id": "97b79f6c",
   "metadata": {},
   "outputs": [],
   "source": []
  }
 ],
 "metadata": {
  "kernelspec": {
   "display_name": "Python 3 (ipykernel)",
   "language": "python",
   "name": "python3"
  },
  "language_info": {
   "codemirror_mode": {
    "name": "ipython",
    "version": 3
   },
   "file_extension": ".py",
   "mimetype": "text/x-python",
   "name": "python",
   "nbconvert_exporter": "python",
   "pygments_lexer": "ipython3",
   "version": "3.9.7"
  }
 },
 "nbformat": 4,
 "nbformat_minor": 5
}
