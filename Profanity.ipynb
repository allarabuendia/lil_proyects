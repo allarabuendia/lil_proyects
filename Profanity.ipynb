{
 "cells": [
  {
   "cell_type": "code",
   "execution_count": 1,
   "id": "f572e21f-86eb-43e9-83d9-a8fc7d3f7a50",
   "metadata": {},
   "outputs": [],
   "source": [
    "from better_profanity import profanity"
   ]
  },
  {
   "cell_type": "code",
   "execution_count": 2,
   "id": "21ecb85a-b906-48d0-bf6a-8cac745dd7c3",
   "metadata": {},
   "outputs": [],
   "source": [
    "text = 'you piece of shit'"
   ]
  },
  {
   "cell_type": "code",
   "execution_count": 3,
   "id": "e68cea95-b5b2-47e3-97bc-9f6b8901bbf2",
   "metadata": {},
   "outputs": [
    {
     "name": "stdout",
     "output_type": "stream",
     "text": [
      "you piece of ****\n"
     ]
    }
   ],
   "source": [
    "censored_text = profanity.censor(text)\n",
    "print(censored_text)"
   ]
  },
  {
   "cell_type": "code",
   "execution_count": 4,
   "id": "bbcbeadf-7d1a-448a-a57c-31f5b8f39b2a",
   "metadata": {},
   "outputs": [
    {
     "name": "stdout",
     "output_type": "stream",
     "text": [
      "you piece of ----\n"
     ]
    }
   ],
   "source": [
    "censored_text = profanity.censor(text,\"-\")\n",
    "print(censored_text)"
   ]
  },
  {
   "cell_type": "code",
   "execution_count": 5,
   "id": "357e29a4-7c84-45d9-aa67-8b901ee631c9",
   "metadata": {},
   "outputs": [],
   "source": [
    "text2 = \"Happy birthday\""
   ]
  },
  {
   "cell_type": "code",
   "execution_count": 6,
   "id": "e5236f4f-6e48-45c2-83c8-c6bb1912dcd5",
   "metadata": {},
   "outputs": [
    {
     "name": "stdout",
     "output_type": "stream",
     "text": [
      "True\n"
     ]
    }
   ],
   "source": [
    "result = profanity.contains_profanity(text)\n",
    "print(result)"
   ]
  },
  {
   "cell_type": "code",
   "execution_count": 7,
   "id": "2e22277a-579f-4c23-95a0-c4651f0a3fdf",
   "metadata": {},
   "outputs": [
    {
     "name": "stdout",
     "output_type": "stream",
     "text": [
      "False\n"
     ]
    }
   ],
   "source": [
    "result2 = profanity.contains_profanity(text2)\n",
    "print(result2)"
   ]
  },
  {
   "cell_type": "code",
   "execution_count": 8,
   "id": "aad6ce7e-6212-41e8-b472-6284b10d1090",
   "metadata": {},
   "outputs": [],
   "source": [
    "custom_words=['gilipollas',\"puta\"]\n",
    "profanity.load_censor_words(custom_words)"
   ]
  },
  {
   "cell_type": "code",
   "execution_count": 9,
   "id": "58cb72cb-5b65-4bd6-80d7-d07ddcbb2156",
   "metadata": {},
   "outputs": [],
   "source": [
    "text3 = 'Menudo gilipollas, hay que ser hijo de puta'"
   ]
  },
  {
   "cell_type": "code",
   "execution_count": 10,
   "id": "c193037a-d142-4bd8-b341-6012a4ba2997",
   "metadata": {},
   "outputs": [
    {
     "name": "stdout",
     "output_type": "stream",
     "text": [
      "Menudo ****, hay que ser hijo de ****\n"
     ]
    }
   ],
   "source": [
    "result3 = profanity.censor(text3)\n",
    "print(result3)"
   ]
  },
  {
   "cell_type": "code",
   "execution_count": null,
   "id": "dab0197d-cc25-4c46-be4f-9bb6d396f1ce",
   "metadata": {},
   "outputs": [],
   "source": []
  },
  {
   "cell_type": "code",
   "execution_count": null,
   "id": "a56fee96-1214-42a0-8b84-1e6a49234e6b",
   "metadata": {},
   "outputs": [],
   "source": []
  }
 ],
 "metadata": {
  "kernelspec": {
   "display_name": "Python 3",
   "language": "python",
   "name": "python3"
  },
  "language_info": {
   "codemirror_mode": {
    "name": "ipython",
    "version": 3
   },
   "file_extension": ".py",
   "mimetype": "text/x-python",
   "name": "python",
   "nbconvert_exporter": "python",
   "pygments_lexer": "ipython3",
   "version": "3.8.8"
  }
 },
 "nbformat": 4,
 "nbformat_minor": 5
}
