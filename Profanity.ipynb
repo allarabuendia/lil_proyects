{
 "cells": [
  {
   "cell_type": "code",
   "execution_count": 1,
   "id": "dab0197d-cc25-4c46-be4f-9bb6d396f1ce",
   "metadata": {},
   "outputs": [
    {
     "name": "stdout",
     "output_type": "stream",
     "text": [
      "you piece of ****\n",
      "you piece of ----\n"
     ]
    }
   ],
   "source": [
    "from better_profanity import profanity\n",
    "text = 'you piece of shit'\n",
    "censored_text = profanity.censor(text)\n",
    "print(censored_text)\n",
    "censored_text = profanity.censor(text,\"-\")\n",
    "print(censored_text)"
   ]
  },
  {
   "cell_type": "code",
   "execution_count": 2,
   "id": "a56fee96-1214-42a0-8b84-1e6a49234e6b",
   "metadata": {},
   "outputs": [
    {
     "name": "stdout",
     "output_type": "stream",
     "text": [
      "Menudo ****, hay que ser hijo de ****\n"
     ]
    }
   ],
   "source": [
    "custom_words=['gilipollas',\"puta\"]\n",
    "profanity.load_censor_words(custom_words)\n",
    "text3 = 'Menudo gilipollas, hay que ser hijo de puta'\n",
    "result3 = profanity.censor(text3)\n",
    "print(result3)"
   ]
  }
 ],
 "metadata": {
  "kernelspec": {
   "display_name": "Python 3 (ipykernel)",
   "language": "python",
   "name": "python3"
  },
  "language_info": {
   "codemirror_mode": {
    "name": "ipython",
    "version": 3
   },
   "file_extension": ".py",
   "mimetype": "text/x-python",
   "name": "python",
   "nbconvert_exporter": "python",
   "pygments_lexer": "ipython3",
   "version": "3.9.7"
  }
 },
 "nbformat": 4,
 "nbformat_minor": 5
}
