{
 "cells": [
  {
   "cell_type": "code",
   "execution_count": 5,
   "id": "42522dd9-b303-441a-817f-03c2dbdb3c74",
   "metadata": {},
   "outputs": [
    {
     "name": "stdout",
     "output_type": "stream",
     "text": [
      "Country Code: 34 National Number: 609609609\n",
      "('Atlantic/Canary', 'Europe/Madrid')\n",
      "Movistar\n",
      "Spain\n"
     ]
    }
   ],
   "source": [
    "import phonenumbers\n",
    "from phonenumbers import timezone,geocoder,carrier\n",
    "phoneNumber = phonenumbers.parse(\"+34609609609\")\n",
    "timeZone = timezone.time_zones_for_number(phoneNumber)\n",
    "Carrier = carrier.name_for_number(phoneNumber,'en')\n",
    "Region = geocoder.description_for_number(phoneNumber, 'en')\n",
    "print(phoneNumber)\n",
    "print(timeZone)\n",
    "print(Carrier)\n",
    "print(Region)"
   ]
  }
 ],
 "metadata": {
  "kernelspec": {
   "display_name": "Python 3 (ipykernel)",
   "language": "python",
   "name": "python3"
  },
  "language_info": {
   "codemirror_mode": {
    "name": "ipython",
    "version": 3
   },
   "file_extension": ".py",
   "mimetype": "text/x-python",
   "name": "python",
   "nbconvert_exporter": "python",
   "pygments_lexer": "ipython3",
   "version": "3.9.7"
  }
 },
 "nbformat": 4,
 "nbformat_minor": 5
}
