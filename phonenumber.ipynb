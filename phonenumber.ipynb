{
 "cells": [
  {
   "cell_type": "code",
   "execution_count": 11,
   "id": "61a7e69b-87c1-482e-ac78-a35ff895d89e",
   "metadata": {},
   "outputs": [],
   "source": [
    "import phonenumbers"
   ]
  },
  {
   "cell_type": "code",
   "execution_count": 12,
   "id": "b553f2e5-58f3-4a1c-a65a-377920ee3ffa",
   "metadata": {},
   "outputs": [],
   "source": [
    "from phonenumbers import timezone,geocoder,carrier"
   ]
  },
  {
   "cell_type": "code",
   "execution_count": 29,
   "id": "ea9ff846-ffb8-45ca-8216-5c5ce65f9587",
   "metadata": {},
   "outputs": [],
   "source": [
    "phoneNumber = phonenumbers.parse(\"+34691145060\")"
   ]
  },
  {
   "cell_type": "code",
   "execution_count": 30,
   "id": "260a7cec-b5da-47f9-ade1-5c401e7f8af2",
   "metadata": {},
   "outputs": [],
   "source": [
    "timeZone = timezone.time_zones_for_number(phoneNumber)"
   ]
  },
  {
   "cell_type": "code",
   "execution_count": 31,
   "id": "2e21b1c6-d373-4506-90f9-ecef130e02fa",
   "metadata": {},
   "outputs": [],
   "source": [
    "Carrier = carrier.name_for_number(phoneNumber,'en')"
   ]
  },
  {
   "cell_type": "code",
   "execution_count": 32,
   "id": "1012799b-c557-497c-a374-de591b2c4699",
   "metadata": {},
   "outputs": [],
   "source": [
    "Region = geocoder.description_for_number(phoneNumber, 'en')\n"
   ]
  },
  {
   "cell_type": "code",
   "execution_count": 33,
   "id": "1a5693c6-29cf-4eed-8981-a6c596e88c79",
   "metadata": {},
   "outputs": [
    {
     "name": "stdout",
     "output_type": "stream",
     "text": [
      "Country Code: 34 National Number: 691145060\n",
      "('Atlantic/Canary', 'Europe/Madrid')\n",
      "Orange\n",
      "Spain\n"
     ]
    }
   ],
   "source": [
    "print(phoneNumber)\n",
    "print(timeZone)\n",
    "print(Carrier)\n",
    "print(Region)"
   ]
  },
  {
   "cell_type": "code",
   "execution_count": null,
   "id": "42522dd9-b303-441a-817f-03c2dbdb3c74",
   "metadata": {},
   "outputs": [],
   "source": []
  },
  {
   "cell_type": "code",
   "execution_count": null,
   "id": "733f7079-8730-4482-9978-997724931daa",
   "metadata": {},
   "outputs": [],
   "source": []
  },
  {
   "cell_type": "code",
   "execution_count": null,
   "id": "e94ded61-5866-4e86-81d9-290f0e5dca65",
   "metadata": {},
   "outputs": [],
   "source": []
  }
 ],
 "metadata": {
  "kernelspec": {
   "display_name": "Python 3",
   "language": "python",
   "name": "python3"
  },
  "language_info": {
   "codemirror_mode": {
    "name": "ipython",
    "version": 3
   },
   "file_extension": ".py",
   "mimetype": "text/x-python",
   "name": "python",
   "nbconvert_exporter": "python",
   "pygments_lexer": "ipython3",
   "version": "3.8.8"
  }
 },
 "nbformat": 4,
 "nbformat_minor": 5
}
