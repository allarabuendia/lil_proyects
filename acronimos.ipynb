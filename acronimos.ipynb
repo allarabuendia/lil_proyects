{
 "cells": [
  {
   "cell_type": "code",
   "execution_count": 11,
   "id": "c3654ea2-7aa5-42db-873c-d05474037e93",
   "metadata": {},
   "outputs": [
    {
     "name": "stdin",
     "output_type": "stream",
     "text": [
      "Enter a phrase:  banco central europeo\n"
     ]
    },
    {
     "name": "stdout",
     "output_type": "stream",
     "text": [
      "Acronym : BCE\n"
     ]
    }
   ],
   "source": [
    "#Acronyms\n",
    "user_input = str(input('Enter a phrase: '))\n",
    "text = user_input.split()\n",
    "a=\" \"\n",
    "for i in text:\n",
    "    a=a+str(i[0]).upper()\n",
    "print('Acronym :' + a)"
   ]
  },
  {
   "cell_type": "code",
   "execution_count": null,
   "id": "80de373d-5726-455e-8df7-ae8ac2378a4b",
   "metadata": {},
   "outputs": [],
   "source": []
  }
 ],
 "metadata": {
  "kernelspec": {
   "display_name": "Python 3",
   "language": "python",
   "name": "python3"
  },
  "language_info": {
   "codemirror_mode": {
    "name": "ipython",
    "version": 3
   },
   "file_extension": ".py",
   "mimetype": "text/x-python",
   "name": "python",
   "nbconvert_exporter": "python",
   "pygments_lexer": "ipython3",
   "version": "3.8.8"
  }
 },
 "nbformat": 4,
 "nbformat_minor": 5
}
